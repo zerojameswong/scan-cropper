{
 "cells": [
  {
   "cell_type": "code",
   "execution_count": 25,
   "metadata": {},
   "outputs": [],
   "source": [
    "from enum import Enum\n",
    "from pathlib import Path\n",
    "\n",
    "import numpy as np\n",
    "from PIL import Image"
   ]
  },
  {
   "cell_type": "code",
   "execution_count": 22,
   "metadata": {},
   "outputs": [],
   "source": [
    "class Orientation(Enum):\n",
    "    LANDSCAPE = 1\n",
    "    PORTRAIT = 2"
   ]
  },
  {
   "cell_type": "code",
   "execution_count": 15,
   "metadata": {},
   "outputs": [],
   "source": [
    "class Edge(Enum):\n",
    "    TOP = 1\n",
    "    BOTTOM = 2\n",
    "    LEFT = 3\n",
    "    RIGHT = 4"
   ]
  },
  {
   "cell_type": "code",
   "execution_count": 23,
   "metadata": {},
   "outputs": [],
   "source": [
    "def crop_and_save(src_dir, dst_dir, crop_from_fn, threshold):\n",
    "    src_path = Path(src_dir)\n",
    "    dst_path = Path(dst_dir)\n",
    "    \n",
    "    for src in src_path.iterdir():\n",
    "        im = Image.open(src)\n",
    "        pixels = np.asarray(im)\n",
    "        orientation = Orientation.LANDSCAPE if pixels.shape[1] > pixels.shape[0] else Orientation.PORTRAIT\n",
    "        crop_from = crop_from_fn(orientation, pixels.shape, src)\n",
    "\n",
    "        row_mean = pixels.mean((1,2))\n",
    "        col_mean = pixels.mean((0,2))\n",
    "\n",
    "        first_col_to_keep = 0\n",
    "        last_col_to_keep = pixels.shape[1] - 1\n",
    "        first_row_to_keep = 0\n",
    "        last_row_to_keep = pixels.shape[0] - 1\n",
    "\n",
    "        if Edge.BOTTOM in crop_from:\n",
    "            last_row_to_keep = last_row_to_keep - (np.flip(row_mean) < threshold).argmax()\n",
    "        if Edge.TOP in crop_from:\n",
    "            first_row_to_keep = (row_mean < threshold).argmax()\n",
    "        if Edge.LEFT in crop_from:\n",
    "            first_col_to_keep = (col_mean < threshold).argmax()\n",
    "        if Edge.RIGHT in crop_from:\n",
    "            last_col_to_keep = last_col_to_keep - (np.flip(col_mean) < threshold).argmax()\n",
    "        \n",
    "        im_cropped = Image.fromarray(pixels[first_row_to_keep:last_row_to_keep, first_col_to_keep:last_col_to_keep])\n",
    "        dst_img = dst_path / src.name\n",
    "        im_cropped.save(dst_img)"
   ]
  },
  {
   "cell_type": "code",
   "execution_count": 26,
   "metadata": {},
   "outputs": [],
   "source": [
    "def crop_from_general(orientation, shape, src):\n",
    "    return [Edge.TOP, Edge.BOTTOM, Edge.LEFT, Edge.RIGHT]"
   ]
  },
  {
   "cell_type": "markdown",
   "metadata": {},
   "source": [
    "Assumption is that landscape images have white space below and that portrait images have white space to the left"
   ]
  },
  {
   "cell_type": "code",
   "execution_count": 29,
   "metadata": {},
   "outputs": [],
   "source": [
    "def crop_from_custom(orientation, shape, src):\n",
    "    crops = []\n",
    "    if orientation == Orientation.LANDSCAPE:\n",
    "        crops.append(Edge.BOTTOM)\n",
    "    elif orientation == Orientation.PORTRAIT:\n",
    "        crops.append(Edge.LEFT)\n",
    "    if shape[1] > 2400:\n",
    "        crops.append(Edge.LEFT)\n",
    "    if src.name == 'grandpa_0050.jpg':\n",
    "        crops.append(Edge.BOTTOM)\n",
    "    return crops"
   ]
  },
  {
   "cell_type": "code",
   "execution_count": 191,
   "metadata": {
    "scrolled": true
   },
   "outputs": [],
   "source": [
    "crop_and_save('D:/Documents/test', 'D:/Documents/test result', crop_from_custom, 200)"
   ]
  },
  {
   "cell_type": "code",
   "execution_count": 28,
   "metadata": {
    "scrolled": false
   },
   "outputs": [],
   "source": [
    "crop_and_save('D:/Documents/test', 'D:/Documents/test result', crop_from_general, 200)"
   ]
  }
 ],
 "metadata": {
  "kernelspec": {
   "display_name": "Python (GIF)",
   "language": "python",
   "name": "gif"
  },
  "language_info": {
   "codemirror_mode": {
    "name": "ipython",
    "version": 3
   },
   "file_extension": ".py",
   "mimetype": "text/x-python",
   "name": "python",
   "nbconvert_exporter": "python",
   "pygments_lexer": "ipython3",
   "version": "3.6.5"
  }
 },
 "nbformat": 4,
 "nbformat_minor": 2
}
